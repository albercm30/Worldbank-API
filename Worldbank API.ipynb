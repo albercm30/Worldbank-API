{
  "cells": [
    {
      "cell_type": "markdown",
      "id": "kOG232dEHQkj",
      "metadata": {
        "id": "kOG232dEHQkj"
      },
      "source": [
        "<img src=\"https://www.uc3m.es/ss/Satellite?blobcol=urldata&blobkey=id&blobtable=MungoBlobs&blobwhere=1371573952659\">\n",
        "\n",
        "\n",
        "---\n",
        "\n",
        "\n",
        "# **WEB ANALYTICS COURSE 4 - SEMESTER 2**\n",
        "# **BACHELOR IN DATA SCIENCE AND ENGINEERING**\n",
        "\n",
        "# **LAB 1 APIs - WORLD BANK**\n",
        "\n",
        "\n",
        "# PARTICIPANTS: Óscar Montoya Amores, Alberto Castellano Macías, Mohamed Afif, Miguel Ángel Ponce Martínez"
      ]
    },
    {
      "cell_type": "markdown",
      "id": "Ry19wO8LIsr9",
      "metadata": {
        "id": "Ry19wO8LIsr9"
      },
      "source": [
        "# 0. LAB PREPARATION\n",
        "\n",
        "Students have to complete the following tasks before attedning the lab:\n",
        "\n",
        "1. **Read and study the API documentation to have some initial notions of the functionality of the World Bank API. Following, we share several links to the documentation related to the World Bank API:**\n",
        "- https://datahelpdesk.worldbank.org/knowledgebase/articles/898581-api-basic-call-structures\n",
        "- https://datahelpdesk.worldbank.org/knowledgebase/topics/125589-developer-information\n",
        "- https://datahelpdesk.worldbank.org/knowledgebase/articles/889392-about-the-indicators-api-documentation\n",
        "\n",
        "2. **The key element of the World Bank API are the \"indicators\". Next, we share a link that may simplify the search of indicators through a search tool. Once you have selected an indicator you can find its codification within the url bar of the browser.**\n",
        "\n",
        "- https://data.worldbank.org/indicator?tab=featured\n",
        "\n",
        "# **1. INTRODUCTION**\n",
        "\n",
        "* The goal of this lab is to gain experience testing a widely-used API such as the World Bank API that includes bunch of information about countries indicators in economy, health, education, agriculture, etc.\n",
        "\n",
        "* The lab includes 5 milestones that will drive the student through the use of several indicators.  \n",
        "\n",
        "* The lab will be done in groups of 23 students.\n",
        "\n",
        "* The lab will use two complete consecutive sessions (4 hours). The students are expected to complete the 5 milestones proposed in the lab within these 2 sessions\n",
        "\n",
        "* **The final mark will be computed as a function of the number of milestones successfully completed.**\n",
        "\n",
        "* **Each group should also upload their lab notebook in the corresponding task in Aula Global.**\n",
        "\n",
        "* Upon completing all the milestones, students should call the professor, who will check the correctness of the solution. Partial milestones checks may be allowed in some cases.\n",
        "\n",
        "# 2. **MILESTONES**\n",
        "\n",
        "In this section we describe one by one the milestones and leave a space to the students to implement the code to complete the requested task.\n",
        "\n",
        "**NOTE: Unless otherwise stated, all the milestones have to deliver information about countries. Therefore, you should not consider regions or any othre aggreated information in your analysis.**"
      ]
    },
    {
      "cell_type": "markdown",
      "id": "WGN71hXJvQoG",
      "metadata": {
        "id": "WGN71hXJvQoG"
      },
      "source": [
        "# **2.1. MILESTONE 1: POPULATION**:\n",
        "Retrieve the 2022 countries' population and show the Top 10 countries and the Bottom 10 countries within the World Bank database.\n",
        "\n"
      ]
    },
    {
      "cell_type": "markdown",
      "id": "mdUq3srWHN0Y",
      "metadata": {
        "id": "mdUq3srWHN0Y"
      },
      "source": []
    },
    {
      "cell_type": "code",
      "execution_count": 85,
      "id": "ZHh5quMhHL0I",
      "metadata": {
        "id": "ZHh5quMhHL0I"
      },
      "outputs": [
        {
          "name": "stdout",
          "output_type": "stream",
          "text": [
            "dict_keys(['Afghanistan', 'Albania', 'Algeria', 'American Samoa', 'Andorra', 'Angola', 'Antigua and Barbuda', 'Argentina', 'Armenia', 'Aruba', 'Australia', 'Austria', 'Azerbaijan', 'Bahamas, The', 'Bahrain', 'Bangladesh', 'Barbados', 'Belarus', 'Belgium', 'Belize', 'Benin', 'Bermuda', 'Bhutan', 'Bolivia', 'Bosnia and Herzegovina', 'Botswana', 'Brazil', 'British Virgin Islands', 'Brunei Darussalam', 'Bulgaria', 'Burkina Faso', 'Burundi', 'Cabo Verde', 'Cambodia', 'Cameroon', 'Canada', 'Cayman Islands', 'Central African Republic', 'Chad', 'Channel Islands', 'Chile', 'China', 'Colombia', 'Comoros', 'Congo, Dem. Rep.', 'Congo, Rep.', 'Costa Rica', \"Cote d'Ivoire\", 'Croatia', 'Cuba', 'Curacao', 'Cyprus', 'Czechia', 'Denmark', 'Djibouti', 'Dominica', 'Dominican Republic', 'Ecuador', 'Egypt, Arab Rep.', 'El Salvador', 'Equatorial Guinea', 'Eritrea', 'Estonia', 'Eswatini', 'Ethiopia', 'Faroe Islands', 'Fiji', 'Finland', 'France', 'French Polynesia', 'Gabon', 'Gambia, The', 'Georgia', 'Germany', 'Ghana', 'Gibraltar', 'Greece', 'Greenland', 'Grenada', 'Guam', 'Guatemala', 'Guinea', 'Guinea-Bissau', 'Guyana', 'Haiti', 'Honduras', 'Hong Kong SAR, China', 'Hungary', 'Iceland', 'India', 'Indonesia', 'Iran, Islamic Rep.', 'Iraq', 'Ireland', 'Isle of Man', 'Israel', 'Italy', 'Jamaica', 'Japan', 'Jordan', 'Kazakhstan', 'Kenya', 'Kiribati', \"Korea, Dem. People's Rep.\", 'Korea, Rep.', 'Kosovo', 'Kuwait', 'Kyrgyz Republic', 'Lao PDR', 'Latvia', 'Lebanon', 'Lesotho', 'Liberia', 'Libya', 'Liechtenstein', 'Lithuania', 'Luxembourg', 'Macao SAR, China', 'Madagascar', 'Malawi', 'Malaysia', 'Maldives', 'Mali', 'Malta', 'Marshall Islands', 'Mauritania', 'Mauritius', 'Mexico', 'Micronesia, Fed. Sts.', 'Moldova', 'Monaco', 'Mongolia', 'Montenegro', 'Morocco', 'Mozambique', 'Myanmar', 'Namibia', 'Nauru', 'Nepal', 'Netherlands', 'New Caledonia', 'New Zealand', 'Nicaragua', 'Niger', 'Nigeria', 'North Macedonia', 'Northern Mariana Islands', 'Norway', 'Oman', 'Pakistan', 'Palau', 'Panama', 'Papua New Guinea', 'Paraguay', 'Peru', 'Philippines', 'Poland', 'Portugal', 'Puerto Rico', 'Qatar', 'Romania', 'Russian Federation', 'Rwanda', 'Samoa', 'San Marino', 'Sao Tome and Principe', 'Saudi Arabia', 'Senegal', 'Serbia', 'Seychelles', 'Sierra Leone', 'Singapore', 'Sint Maarten (Dutch part)', 'Slovak Republic', 'Slovenia', 'Solomon Islands', 'Somalia', 'South Africa', 'South Sudan', 'Spain', 'Sri Lanka', 'St. Kitts and Nevis', 'St. Lucia', 'St. Martin (French part)', 'St. Vincent and the Grenadines', 'Sudan', 'Suriname', 'Sweden', 'Switzerland', 'Syrian Arab Republic', 'Tajikistan', 'Tanzania', 'Thailand', 'Timor-Leste', 'Togo', 'Tonga', 'Trinidad and Tobago', 'Tunisia', 'Turkiye', 'Turkmenistan', 'Turks and Caicos Islands', 'Tuvalu', 'Uganda', 'Ukraine', 'United Arab Emirates', 'United Kingdom', 'United States', 'Uruguay', 'Uzbekistan', 'Vanuatu', 'Venezuela, RB', 'Vietnam', 'Virgin Islands (U.S.)', 'West Bank and Gaza', 'Yemen, Rep.', 'Zambia', 'Zimbabwe'])\n"
          ]
        }
      ],
      "source": [
        "import requests\n",
        "import pandas as pd\n",
        "#SOLUTION MILESTONE 1\n",
        "url_countries = \"https://api.worldbank.org/v2/country?per_page=1000&format=json\"\n",
        "\n",
        "# Send a GET request to the World Bank API\n",
        "response_countries = requests.get(url_countries)\n",
        "\n",
        "data_countries = response_countries.json()\n",
        "\n",
        "all_countries = data_countries[1]\n",
        "countries_filtered = []\n",
        "for country in all_countries:\n",
        "       if country['region']['value']!=\"Aggregates\":\n",
        "             countries_filtered.append(country['name'])\n",
        "\n",
        "# Define the API endpoint\n",
        "url = \"https://api.worldbank.org/v2/country/all/indicator/SP.POP.TOTL?date=2022&per_page=1000&format=json\"\n",
        "\n",
        "# Send a GET request to the World Bank API\n",
        "response = requests.get(url)\n",
        "\n",
        "data = response.json()\n",
        "\n",
        "# Extract the list of countries\n",
        "\n",
        "countries = data[1]\n",
        "#print(countries[0])\n",
        "\n",
        "population_data = {}\n",
        "\n",
        "for country in countries:\n",
        "    country_name = country['country']['value']\n",
        "    country_population = country['value']\n",
        "    if country_name in countries_filtered:\n",
        "        if country_population is not None:\n",
        "                population_data[country_name] = int(country_population)\n",
        "\n",
        "print(population_data.keys())"
      ]
    },
    {
      "cell_type": "code",
      "execution_count": 86,
      "id": "d7bd0406",
      "metadata": {},
      "outputs": [
        {
          "name": "stdout",
          "output_type": "stream",
          "text": [
            "Top 10 Countries by Population in 2022:\n",
            "India: 1417173173\n",
            "China: 1412175000\n",
            "United States: 333287557\n",
            "Indonesia: 275501339\n",
            "Pakistan: 235824862\n",
            "Nigeria: 218541212\n",
            "Brazil: 215313498\n",
            "Bangladesh: 171186372\n",
            "Russian Federation: 143555736\n",
            "Mexico: 127504125\n",
            "\n",
            "Bottom 10 Countries by Population in 2022:\n",
            "Marshall Islands: 41569\n",
            "Liechtenstein: 39327\n",
            "Monaco: 36469\n",
            "San Marino: 33660\n",
            "Gibraltar: 32649\n",
            "St. Martin (French part): 31791\n",
            "British Virgin Islands: 31305\n",
            "Palau: 18055\n",
            "Nauru: 12668\n",
            "Tuvalu: 11312\n"
          ]
        }
      ],
      "source": [
        "# Sort the population data\n",
        "sorted_population = sorted(population_data.items(), key=lambda x: x[1], reverse=True)\n",
        "\n",
        "# The top 10 and bottom 10 countries by population\n",
        "top_10 = sorted_population[:10]\n",
        "bottom_10 = sorted_population[-10:]\n",
        "\n",
        "print(\"Top 10 Countries by Population in 2022:\")\n",
        "for country, population in top_10:\n",
        "    print(f\"{country}: {population}\")\n",
        "\n",
        "print(\"\\nBottom 10 Countries by Population in 2022:\")\n",
        "for country, population in bottom_10:\n",
        "   print(f\"{country}: {population}\")\n"
      ]
    },
    {
      "cell_type": "markdown",
      "id": "RoZs2zuFC3sN",
      "metadata": {
        "id": "RoZs2zuFC3sN"
      },
      "source": [
        "# **2.2. MILESTONE 2: WOMEN Vs. MEN POPULATION**:\n",
        "Obtain the % of men and women for each country and compute the difference among them using the formula %women - %men. Display:\n",
        "\n",
        "1- The number of countries with more women than men.\n",
        "\n",
        "2- The number of countries with more men than women\n",
        "\n",
        "3- The 10 countries with more women compared to men (ten countries with the largest positive value of the previous metric)\n",
        "\n",
        "- The 10 countries with more men compared to women (ten countries with the largest negative value of the previous metric).\n",
        "\n",
        "**Note**: You can use the indicator the absolute number of men and women from the World Bank API and compute the % for each country and the difference, or you can use the indicator given directly the %.\n",
        "\n"
      ]
    },
    {
      "cell_type": "code",
      "execution_count": 87,
      "id": "jRsb98VeYEAE",
      "metadata": {
        "id": "jRsb98VeYEAE"
      },
      "outputs": [
        {
          "name": "stdout",
          "output_type": "stream",
          "text": [
            "Number of countries with more women than men: 136\n",
            "Number of countries with more men than women: 81\n",
            "\n",
            "Top 10 countries with more women compared to men:\n",
            "Armenia: 11.11%\n",
            "Ukraine: 9.09%\n",
            "Belarus: 7.07%\n",
            "Hong Kong SAR, China: 7.07%\n",
            "Latvia: 7.07%\n",
            "Lithuania: 7.07%\n",
            "Macao SAR, China: 7.07%\n",
            "Russian Federation: 7.07%\n",
            "Virgin Islands (U.S.): 7.07%\n",
            "Antigua and Barbuda: 5.05%\n",
            "\n",
            "Top 10 countries with more men compared to women:\n",
            "Qatar: -45.45%\n",
            "United Arab Emirates: -39.39%\n",
            "Bahrain: -23.23%\n",
            "Kuwait: -21.21%\n",
            "Oman: -21.21%\n",
            "Maldives: -15.15%\n",
            "Saudi Arabia: -15.15%\n",
            "Northern Mariana Islands: -7.07%\n",
            "Sint Maarten (Dutch part): -7.07%\n",
            "Bhutan: -5.05%\n"
          ]
        }
      ],
      "source": [
        "#SOLUTION MILESTONE 2\n",
        "\n",
        "url_female = \"https://api.worldbank.org/v2/country/all/indicator/SP.POP.TOTL.FE.ZS?date=2022&format=json&per_page=266\"\n",
        "url_male = \"https://api.worldbank.org/v2/country/all/indicator/SP.POP.TOTL.MA.ZS?date=2022&format=json&per_page=266\"\n",
        "\n",
        "\n",
        "response_male = requests.get(url_male)\n",
        "response_female = requests.get(url_female)\n",
        "\n",
        "data = response_male.json()\n",
        "data_female = response_female.json()\n",
        "\n",
        "# Extract population data for men and women\n",
        "men_population = {}\n",
        "women_population = {}\n",
        "\n",
        "for entry in data[1]:\n",
        "    country_name = entry['country']['value']\n",
        "    population_value = entry['value']\n",
        "    if country_name in countries_filtered:\n",
        "        if population_value is not None:\n",
        "            men_population[country_name] = int(population_value)\n",
        "\n",
        "for entry in data_female[1]:\n",
        "    country_name = entry['country']['value']\n",
        "    population_value = entry['value']\n",
        "    if country_name in countries_filtered:\n",
        "        if population_value is not None:\n",
        "            women_population[country_name] = int(population_value)\n",
        "\n",
        "# Calculate the total population for each country\n",
        "total_population = {}\n",
        "for country in men_population:\n",
        "    total_population[country] = men_population[country] + women_population[country]\n",
        "\n",
        "# Calculate the percentage of men and women for each country\n",
        "percentage_diff = {}\n",
        "for country in total_population:\n",
        "    men_percentage = (men_population[country] / total_population[country]) * 100\n",
        "    women_percentage = (women_population[country] / total_population[country]) * 100\n",
        "    percentage_diff[country] = women_percentage - men_percentage\n",
        "\n",
        "# Number of countries with more women than men and more men than women\n",
        "countries_more_women = sum(1 for diff in percentage_diff.values() if diff > 0)\n",
        "countries_more_men = sum(1 for diff in percentage_diff.values() if diff < 0)\n",
        "\n",
        "# Top 10 countries with more women compared to men and more men compared to women\n",
        "top_10_women = sorted(percentage_diff.items(), key=lambda x: x[1], reverse=True)[:10]\n",
        "top_10_men = sorted(percentage_diff.items(), key=lambda x: x[1])[:10]\n",
        "\n",
        "print(\"Number of countries with more women than men:\", countries_more_women)\n",
        "print(\"Number of countries with more men than women:\", countries_more_men)\n",
        "\n",
        "print(\"\\nTop 10 countries with more women compared to men:\")\n",
        "for country, diff in top_10_women:\n",
        "    print(f\"{country}: {diff:.2f}%\")\n",
        "\n",
        "print(\"\\nTop 10 countries with more men compared to women:\")\n",
        "for country, diff in top_10_men:\n",
        "    print(f\"{country}: {diff:.2f}%\")"
      ]
    },
    {
      "cell_type": "markdown",
      "id": "YidJbEth0kM6",
      "metadata": {
        "id": "YidJbEth0kM6"
      },
      "source": [
        "## **2.3. MILESTONE 3: GDP PER CAPITA ACCORDING FOR INCOME LEVEL GROUPS**:\n",
        "\n",
        "Compute the average increase/decrease in percentage for the PIB per capita in US dollars in the following two periods: 2000-2022 and  2010-2022, for the following income groups: low-income economies, lower-middle-income economies, middle economies, upper-middle-income economies and high-income economies. The following, link provides information of the different country aggregations carried out by the World Bank.  \n",
        "\n",
        "https://datahelpdesk.worldbank.org/knowledgebase/articles/906519-world-bank-country-and-lending-groups\n",
        "\n",
        " You should compute the %GDP increase as follows. Given country A with a GDP Per Capita \\$20000 in 2000 and \\$30000 in 2022 the increase/decrease should be computed as follow:\n",
        "\n",
        "%GDP increase = 100*(30000-20000)/20000=50%.\n"
      ]
    },
    {
      "cell_type": "code",
      "execution_count": 88,
      "id": "OsMy7ZXaHe18",
      "metadata": {
        "id": "OsMy7ZXaHe18"
      },
      "outputs": [
        {
          "name": "stdout",
          "output_type": "stream",
          "text": [
            "49430.3293645734\n",
            "38764.4468995418\n",
            "25191.0460137549\n",
            "741.244363322251\n",
            "1158.03575119001\n",
            "487.481210650629\n",
            "2542.19993808198\n",
            "1690.25677929181\n",
            "601.11322738431\n",
            "6388.15816925793\n",
            "3788.50399261917\n",
            "1246.29144326899\n",
            "10794.9318569097\n",
            "5979.91129500348\n",
            "1860.11287450474\n",
            "\n",
            "Icrease/decrease of GDP per capita from 2000 to 2022:\n",
            "High income: 96.22%\n",
            "Low income: 52.06%\n",
            "Lower middle income: 322.92%\n",
            "Middle income: 412.57%\n",
            "Upper middle income: 480.34%\n",
            "\n",
            "Icrease/decrease of GDP per capita from 2010 to 2022:\n",
            "High income: 27.51%\n",
            "Low income: -35.99%\n",
            "Lower middle income: 50.40%\n",
            "Middle income: 68.62%\n",
            "Upper middle income: 80.52%\n"
          ]
        }
      ],
      "source": [
        "#SOLUTION MILESTONE 3\n",
        "url_2022 = \"https://api.worldbank.org/v2/country/all/indicator/NY.GDP.PCAP.CD?date=2022&per_page=266&format=json\"\n",
        "url_2010 = \"https://api.worldbank.org/v2/country/all/indicator/NY.GDP.PCAP.CD?date=2010&per_page=266&format=json\"\n",
        "url_2000 = \"https://api.worldbank.org/v2/country/all/indicator/NY.GDP.PCAP.CD?date=2000&per_page=266&format=json\"\n",
        "\n",
        "\n",
        "\n",
        "response_2022 = requests.get(url_2022)\n",
        "response_2010 = requests.get(url_2010)\n",
        "response_2000 = requests.get(url_2000)\n",
        "\n",
        "data_2022 = response_2022.json()\n",
        "data_2010 = response_2010.json()\n",
        "data_2000 = response_2000.json()\n",
        "\n",
        "\n",
        "# Extract gdp info\n",
        "gdp = {}\n",
        "\n",
        "# Save each income level increase/decrease GDP per capita\n",
        "for i,x,z in zip(data_2022[1],data_2010[1],data_2000[1]):\n",
        "    country_name = i['country']['value']\n",
        "    if country_name in [\"Upper middle income\", \"Middle income\", \"Lower middle income\", \"Low income\", \"High income\"]:\n",
        "        gdp2022 = i['value']\n",
        "        print(gdp2022)\n",
        "        gdp2010 = x['value']\n",
        "        print(gdp2010)\n",
        "        gdp2000 = z['value']\n",
        "        print(gdp2000)\n",
        "        i_2000_2022 = (100*(gdp2022-gdp2000))/gdp2000\n",
        "        i_2010_2022 = (100*(gdp2022-gdp2010))/gdp2010\n",
        "        gdp[country_name] = [i_2000_2022, i_2010_2022]\n",
        "\n",
        "\n",
        "print(\"\\nIcrease/decrease of GDP per capita from 2000 to 2022:\")\n",
        "for country in gdp:\n",
        "    print(f\"{country}: {gdp[country][0]:.2f}%\")\n",
        "print(\"\\nIcrease/decrease of GDP per capita from 2010 to 2022:\")\n",
        "for country in gdp:\n",
        "    print(f\"{country}: {gdp[country][1]:.2f}%\")"
      ]
    },
    {
      "cell_type": "markdown",
      "id": "GNzRCLvh0kI8",
      "metadata": {
        "id": "GNzRCLvh0kI8"
      },
      "source": []
    },
    {
      "cell_type": "markdown",
      "id": "HOqhV6MaQKLg",
      "metadata": {
        "id": "HOqhV6MaQKLg"
      },
      "source": [
        "# **2.4. MILESTONE 4: TOP 5 COUNTRIES INCREASE GDP PER INCOME-GROUP**\n",
        "\n",
        "For each of the income groups included in Milestone 3 and the period 2010-2022 list the Top 5 countries in terms of %GDPR per capita increase along with the value\n",
        "\n",
        "**NOTE**: Do not consider the countries for which you do not have data either in 2010 or 2022 or both of them"
      ]
    },
    {
      "cell_type": "code",
      "execution_count": 89,
      "id": "Omzo5PZ8HnbI",
      "metadata": {
        "id": "Omzo5PZ8HnbI"
      },
      "outputs": [],
      "source": [
        "#SOLUTION MILESTONE 4\n",
        "income_level_url = \"https://api.worldbank.org/v2/country?format=json&per_page=1000\"\n",
        "response_income_level = requests.get(income_level_url)\n",
        "data_income_level = response_income_level.json()\n",
        "\n",
        "lic_countries  = []\n",
        "hic_countries  = []\n",
        "umc_countries  = []\n",
        "lmc_countries  = []\n",
        "\n",
        "# divide countries by income-levels\n",
        "for i in data_income_level[1]:\n",
        "    if i[\"incomeLevel\"][\"id\"] == \"HIC\":\n",
        "        hic_countries.append(i['name'])\n",
        "    if i[\"incomeLevel\"][\"id\"] == \"LIC\":  \n",
        "        lic_countries.append(i['name'])\n",
        "    if i[\"incomeLevel\"][\"id\"] == \"UMC\":\n",
        "        umc_countries.append(i['name'])\n",
        "    if i[\"incomeLevel\"][\"id\"] == \"LMC\":  \n",
        "        lmc_countries.append(i['name'])\n",
        "\n",
        "# Extract gdp info\n",
        "gdp_lic = {}\n",
        "gdp_hic = {}\n",
        "gdp_umc = {}\n",
        "gdp_lmc = {}\n",
        "\n",
        "# Divide the increase of gdp of each country depending on the incoming-group\n",
        "for i,x in zip(data_2022[1],data_2010[1]):\n",
        "    country_name = i['country']['value']\n",
        "    if country_name in countries_filtered:\n",
        "        gdp2022 = i['value']\n",
        "        gdp2010 = x['value']\n",
        "        if gdp2022==None or gdp2010 == None:\n",
        "            next\n",
        "        else:\n",
        "            if country_name in lic_countries:\n",
        "                i_2010_2022 = (100*(gdp2022-gdp2010))/gdp2010\n",
        "                gdp_lic[country_name] = i_2010_2022\n",
        "            if country_name in hic_countries:\n",
        "                i_2010_2022 = (100*(gdp2022-gdp2010))/gdp2010\n",
        "                gdp_hic[country_name] = i_2010_2022\n",
        "            if country_name in umc_countries:\n",
        "                i_2010_2022 = (100*(gdp2022-gdp2010))/gdp2010\n",
        "                gdp_umc[country_name] = i_2010_2022\n",
        "            if country_name in lmc_countries:\n",
        "                i_2010_2022 = (100*(gdp2022-gdp2010))/gdp2010\n",
        "                gdp_lmc[country_name] = i_2010_2022"
      ]
    },
    {
      "cell_type": "code",
      "execution_count": 90,
      "id": "7dae496f",
      "metadata": {},
      "outputs": [],
      "source": [
        "top_5_lic = sorted(gdp_lic.items(), key=lambda x: x[1], reverse=True)[:5]\n",
        "top_5_hic = sorted(gdp_hic.items(), key=lambda x: x[1], reverse=True)[:5]\n",
        "top_5_umc = sorted(gdp_umc.items(), key=lambda x: x[1], reverse=True)[:5]\n",
        "top_5_lmc = sorted(gdp_lmc.items(), key=lambda x: x[1], reverse=True)[:5]"
      ]
    },
    {
      "cell_type": "code",
      "execution_count": 91,
      "id": "b2edf340",
      "metadata": {},
      "outputs": [
        {
          "name": "stdout",
          "output_type": "stream",
          "text": [
            "\n",
            "Top 5 countries with GDPR increase in LIC level:\n",
            "Ethiopia: 206.34%\n",
            "Congo, Dem. Rep.: 80.55%\n",
            "Rwanda: 62.65%\n",
            "Liberia: 51.81%\n",
            "Guinea-Bissau: 43.07%\n",
            "\n",
            "Top 5 countries with GDPR increase in HIC level:\n",
            "Guyana: 313.73%\n",
            "Nauru: 156.52%\n",
            "Ireland: 113.79%\n",
            "Panama: 113.64%\n",
            "Lithuania: 107.11%\n",
            "\n",
            "Top 5 countries with GDPR increase in UMC level:\n",
            "China: 179.54%\n",
            "Moldova: 128.28%\n",
            "Marshall Islands: 124.16%\n",
            "Armenia: 123.17%\n",
            "Georgia: 104.99%\n",
            "\n",
            "Top 5 countries with GDPR increase in LMC level:\n",
            "Bangladesh: 246.05%\n",
            "Timor-Leste: 191.11%\n",
            "Djibouti: 155.42%\n",
            "Vietnam: 147.24%\n",
            "Guinea: 129.54%\n"
          ]
        }
      ],
      "source": [
        "print(\"\\nTop 5 countries with GDPR increase in LIC level:\")\n",
        "for country, diff in top_5_lic:\n",
        "    print(f\"{country}: {diff:.2f}%\")\n",
        "print(\"\\nTop 5 countries with GDPR increase in HIC level:\")\n",
        "for country, diff in top_5_hic:\n",
        "    print(f\"{country}: {diff:.2f}%\")\n",
        "print(\"\\nTop 5 countries with GDPR increase in UMC level:\")\n",
        "for country, diff in top_5_umc:\n",
        "    print(f\"{country}: {diff:.2f}%\")\n",
        "print(\"\\nTop 5 countries with GDPR increase in LMC level:\")\n",
        "for country, diff in top_5_lmc:\n",
        "    print(f\"{country}: {diff:.2f}%\")"
      ]
    },
    {
      "cell_type": "markdown",
      "id": "lbWffR2QwNuh",
      "metadata": {
        "id": "lbWffR2QwNuh"
      },
      "source": [
        "# **2.5. MILESTONE 5: CO2 emission per capita**\n",
        "\n",
        "Retrieve the most recent non empty value for the amount of CO2 emission per capita (metric tons per country) for all the countries. Display the 30 countries with the highest CO2 emission per capita along with their value and the year related to that value.\n",
        "\n",
        "**NOTE**: You cannot search manually the year and use it in your query for this milestone.\n"
      ]
    },
    {
      "cell_type": "code",
      "execution_count": 92,
      "id": "Q3FUei05HuAM",
      "metadata": {
        "id": "Q3FUei05HuAM"
      },
      "outputs": [],
      "source": [
        "#SOLUTION MILESTONE 5\n",
        "# Define the API endpoint URL for CO2 emissions per capita with the \"mrnev=1\" parameter\n",
        "co2_emissions_url = \"https://api.worldbank.org/v2/country/all/indicator/EN.ATM.CO2E.PC?format=json&per_page=266&mrnev=1\"\n",
        "\n",
        "\n",
        "response = requests.get(co2_emissions_url)\n",
        "data = response.json()\n"
      ]
    },
    {
      "cell_type": "code",
      "execution_count": 101,
      "id": "1c272fce",
      "metadata": {},
      "outputs": [
        {
          "name": "stdout",
          "output_type": "stream",
          "text": [
            "<class 'list'>\n",
            "[('Qatar (QA)', {'year': 2020, 'value': 31.7268424513247}), ('Bahrain (BH)', {'year': 2020, 'value': 21.9769078065259}), ('Brunei Darussalam (BN)', {'year': 2020, 'value': 21.7058124398664}), ('Kuwait (KW)', {'year': 2020, 'value': 21.1696102506992}), ('United Arab Emirates (AE)', {'year': 2020, 'value': 20.2522716801426}), ('Oman (OM)', {'year': 2020, 'value': 15.6362010028175}), ('Australia (AU)', {'year': 2020, 'value': 14.7726575989848}), ('Saudi Arabia (SA)', {'year': 2020, 'value': 14.2665853675408}), ('Canada (CA)', {'year': 2020, 'value': 13.5993749178773}), ('United States (US)', {'year': 2020, 'value': 13.0328279519898}), ('Luxembourg (LU)', {'year': 2020, 'value': 12.4569532326913}), ('Kazakhstan (KZ)', {'year': 2020, 'value': 11.2977433059429}), ('Russian Federation (RU)', {'year': 2020, 'value': 11.2322880672434}), ('Korea, Rep. (KR)', {'year': 2020, 'value': 10.9900295814285}), ('Turkmenistan (TM)', {'year': 2020, 'value': 10.1840862992321}), ('Trinidad and Tobago (TT)', {'year': 2020, 'value': 10.1571191722541}), ('Palau (PW)', {'year': 2020, 'value': 8.80258179390162}), ('Czechia (CZ)', {'year': 2020, 'value': 8.30401749583889}), ('Japan (JP)', {'year': 2020, 'value': 8.0314958696668}), ('China (CN)', {'year': 2020, 'value': 7.75613790659769}), ('Singapore (SG)', {'year': 2020, 'value': 7.68668370206727}), ('Netherlands (NL)', {'year': 2020, 'value': 7.4715534787719}), ('Belgium (BE)', {'year': 2020, 'value': 7.39813065774681}), ('Malaysia (MY)', {'year': 2020, 'value': 7.38371541222915}), ('Poland (PL)', {'year': 2020, 'value': 7.36756337292709}), ('Germany (DE)', {'year': 2020, 'value': 7.2552210281684}), ('Iran, Islamic Rep. (IR)', {'year': 2020, 'value': 7.06335132057733}), ('Ireland (IE)', {'year': 2020, 'value': 6.76822759018266}), ('Norway (NO)', {'year': 2020, 'value': 6.7250800496331}), ('Serbia (RS)', {'year': 2020, 'value': 6.71451717217514}), ('South Africa (ZA)', {'year': 2020, 'value': 6.68756314737781}), ('Libya (LY)', {'year': 2020, 'value': 6.68280547080212}), ('Austria (AT)', {'year': 2020, 'value': 6.63264573733546}), ('Finland (FI)', {'year': 2020, 'value': 6.57014512772575}), ('Mongolia (MN)', {'year': 2020, 'value': 6.43064533509798}), ('Israel (IL)', {'year': 2020, 'value': 6.34521600416707}), ('Bosnia and Herzegovina (BA)', {'year': 2020, 'value': 6.31230587447531}), ('New Zealand (NZ)', {'year': 2020, 'value': 6.16079918274331}), ('Seychelles (SC)', {'year': 2020, 'value': 6.08051837257013}), ('Bahamas, The (BS)', {'year': 2020, 'value': 6.04225147673512}), ('Slovenia (SI)', {'year': 2020, 'value': 5.93473517885826}), ('Belarus (BY)', {'year': 2020, 'value': 5.84240729590088}), ('Andorra (AD)', {'year': 2020, 'value': 5.77714799227799}), ('Cyprus (CY)', {'year': 2020, 'value': 5.47199800894842}), ('Estonia (EE)', {'year': 2020, 'value': 5.33839981587368}), ('Slovak Republic (SK)', {'year': 2020, 'value': 5.31905480792852}), ('Antigua and Barbuda (AG)', {'year': 2020, 'value': 5.12173012173012}), ('Bulgaria (BG)', {'year': 2020, 'value': 4.92328037940501}), ('St. Kitts and Nevis (KN)', {'year': 2020, 'value': 4.84866294446077}), ('Turkiye (TR)', {'year': 2020, 'value': 4.84226692232433}), ('Greece (GR)', {'year': 2020, 'value': 4.76718493701839}), ('Italy (IT)', {'year': 2020, 'value': 4.73237277079935}), ('Denmark (DK)', {'year': 2020, 'value': 4.69123730751634}), ('United Kingdom (GB)', {'year': 2020, 'value': 4.60114225090135}), ('Hungary (HU)', {'year': 2020, 'value': 4.59165290704788}), ('Chile (CL)', {'year': 2020, 'value': 4.39515106359663}), ('Suriname (SR)', {'year': 2020, 'value': 4.28507655687612}), ('Spain (ES)', {'year': 2020, 'value': 4.2795945712141}), ('Lithuania (LT)', {'year': 2020, 'value': 4.18400041504391}), ('Montenegro (ME)', {'year': 2020, 'value': 4.06756091201437}), ('Switzerland (CH)', {'year': 2020, 'value': 4.04207281475341}), ('France (FR)', {'year': 2020, 'value': 3.95368245187991}), ('Iceland (IS)', {'year': 2020, 'value': 3.94746536485266}), ('Barbados (BB)', {'year': 2020, 'value': 3.90487115816925}), ('Croatia (HR)', {'year': 2020, 'value': 3.86070539173057}), ('Iraq (IQ)', {'year': 2020, 'value': 3.84217781974399}), ('Lebanon (LB)', {'year': 2020, 'value': 3.79219353680069}), ('Portugal (PT)', {'year': 2020, 'value': 3.78490758691711}), ('Ukraine (UA)', {'year': 2020, 'value': 3.75381618922792}), ('Algeria (DZ)', {'year': 2020, 'value': 3.7182233703076}), ('Thailand (TH)', {'year': 2020, 'value': 3.71425580600412}), ('Vietnam (VN)', {'year': 2020, 'value': 3.67644008813984}), ('Liechtenstein (LI)', {'year': 2020, 'value': 3.66384799772938}), ('Latvia (LV)', {'year': 2020, 'value': 3.64561216849281}), ('Romania (RO)', {'year': 2020, 'value': 3.56413750145988}), ('Guyana (GY)', {'year': 2020, 'value': 3.47277101663067}), ('Argentina (AR)', {'year': 2020, 'value': 3.4056175404138}), ('Azerbaijan (AZ)', {'year': 2020, 'value': 3.39884957289227}), ('Uzbekistan (UZ)', {'year': 2020, 'value': 3.37630378548758}), ('Nauru (NR)', {'year': 2020, 'value': 3.36175395858709}), ('North Macedonia (MK)', {'year': 2020, 'value': 3.27942018720106}), ('Moldova (MD)', {'year': 2020, 'value': 3.26784636811087}), ('Sweden (SE)', {'year': 2020, 'value': 3.24298914312747}), ('Malta (MT)', {'year': 2020, 'value': 3.12555789277592}), ('Mexico (MX)', {'year': 2020, 'value': 3.04076637477226}), ('Mauritius (MU)', {'year': 2020, 'value': 2.93851410805884}), ('Maldives (MV)', {'year': 2020, 'value': 2.82638529813116}), ('St. Lucia (LC)', {'year': 2020, 'value': 2.78513922906543}), ('Georgia (GE)', {'year': 2020, 'value': 2.75470919618902}), ('Equatorial Guinea (GQ)', {'year': 2020, 'value': 2.72573085162172}), ('Grenada (GD)', {'year': 2020, 'value': 2.62406702085507}), ('Lao PDR (LA)', {'year': 2020, 'value': 2.6202834413044}), ('Venezuela, RB (VE)', {'year': 2020, 'value': 2.54502797831961}), ('Marshall Islands (MH)', {'year': 2020, 'value': 2.53380323866123}), ('Tunisia (TN)', {'year': 2020, 'value': 2.4086225282388}), ('Armenia (AM)', {'year': 2020, 'value': 2.40468376195106}), ('Gabon (GA)', {'year': 2020, 'value': 2.33327357514897}), ('Botswana (BW)', {'year': 2020, 'value': 2.2634631138367}), ('Dominica (DM)', {'year': 2020, 'value': 2.26126814362109}), ('Panama (PA)', {'year': 2020, 'value': 2.23144302481653}), ('Cuba (CU)', {'year': 2020, 'value': 2.15276967847473}), ('St. Vincent and the Grenadines (VC)', {'year': 2020, 'value': 2.100695771848}), ('Dominican Republic (DO)', {'year': 2020, 'value': 2.08018172191441}), ('Indonesia (ID)', {'year': 2020, 'value': 2.07165896221472}), ('Jamaica (JM)', {'year': 2020, 'value': 2.06904180772051}), (\"Korea, Dem. People's Rep. (KP)\", {'year': 2020, 'value': 2.02714861876503}), ('Egypt, Arab Rep. (EG)', {'year': 2020, 'value': 1.96112257208929}), ('Ecuador (EC)', {'year': 2020, 'value': 1.95757534925331}), ('Brazil (BR)', {'year': 2020, 'value': 1.94252335631484}), ('Jordan (JO)', {'year': 2020, 'value': 1.9191724264898}), ('Uruguay (UY)', {'year': 2020, 'value': 1.89971905049917}), ('Morocco (MA)', {'year': 2020, 'value': 1.81852638730999}), ('Belize (BZ)', {'year': 2020, 'value': 1.74110771521393}), ('Namibia (NA)', {'year': 2020, 'value': 1.58804514727825}), ('India (IN)', {'year': 2020, 'value': 1.57609323191648}), ('Colombia (CO)', {'year': 2020, 'value': 1.55225942282078}), ('Albania (AL)', {'year': 2020, 'value': 1.54455011524574}), ('Bolivia (BO)', {'year': 2020, 'value': 1.53946469560316}), ('Peru (PE)', {'year': 2020, 'value': 1.39856601861908}), ('Kyrgyz Republic (KG)', {'year': 2020, 'value': 1.37997537956504}), ('Costa Rica (CR)', {'year': 2020, 'value': 1.35999554957394}), ('Bhutan (BT)', {'year': 2020, 'value': 1.34005431673023}), ('Congo, Rep. (CG)', {'year': 2020, 'value': 1.25459166977367}), ('Syrian Arab Republic (SY)', {'year': 2020, 'value': 1.21480248375323}), ('Philippines (PH)', {'year': 2020, 'value': 1.18967945167284}), ('Paraguay (PY)', {'year': 2020, 'value': 1.14459119207034}), ('Cambodia (KH)', {'year': 2020, 'value': 1.13758365931038}), ('Tonga (TO)', {'year': 2020, 'value': 1.12204761814278}), ('Fiji (FJ)', {'year': 2020, 'value': 1.11709628844161}), ('Cabo Verde (CV)', {'year': 2020, 'value': 1.06515172319099}), ('Lesotho (LS)', {'year': 2020, 'value': 1.02564216316934}), ('El Salvador (SV)', {'year': 2020, 'value': 1.01328024350636}), ('Guatemala (GT)', {'year': 2020, 'value': 1.00040733564819}), ('Sri Lanka (LK)', {'year': 2020, 'value': 0.99668324284867}), ('Tajikistan (TJ)', {'year': 2020, 'value': 0.977533024275801}), ('Eswatini (SZ)', {'year': 2020, 'value': 0.972087527685903}), ('Samoa (WS)', {'year': 2020, 'value': 0.960782397908146}), ('Micronesia, Fed. Sts. (FM)', {'year': 2020, 'value': 0.958913885073056}), ('Honduras (HN)', {'year': 2020, 'value': 0.872911171700029}), ('Mauritania (MR)', {'year': 2020, 'value': 0.855176405836122}), ('Pakistan (PK)', {'year': 2020, 'value': 0.81036021551031}), ('Nicaragua (NI)', {'year': 2020, 'value': 0.678252104273379}), ('Senegal (SN)', {'year': 2020, 'value': 0.649800561203009}), ('Sao Tome and Principe (ST)', {'year': 2020, 'value': 0.645350140184137}), ('Myanmar (MM)', {'year': 2020, 'value': 0.634080348390974}), ('Benin (BJ)', {'year': 2020, 'value': 0.631204805964476}), ('Ghana (GH)', {'year': 2020, 'value': 0.602887453142675}), ('Tuvalu (TV)', {'year': 2020, 'value': 0.596259824735748}), ('Angola (AO)', {'year': 2020, 'value': 0.592742967779037}), ('Papua New Guinea (PG)', {'year': 2020, 'value': 0.563251566211675}), ('Nigeria (NG)', {'year': 2020, 'value': 0.537510175389551}), ('Zimbabwe (ZW)', {'year': 2020, 'value': 0.530483547000938}), ('Bangladesh (BD)', {'year': 2020, 'value': 0.510647559277094}), ('Nepal (NP)', {'year': 2020, 'value': 0.509366247354604}), ('Sudan (SD)', {'year': 2020, 'value': 0.467953928316626}), ('Kiribati (KI)', {'year': 2020, 'value': 0.449933972782553}), ('Comoros (KM)', {'year': 2020, 'value': 0.407112182850678}), (\"Cote d'Ivoire (CI)\", {'year': 2020, 'value': 0.406347356890383}), ('Zambia (ZM)', {'year': 2020, 'value': 0.40190271250386}), ('Djibouti (DJ)', {'year': 2020, 'value': 0.392329171237878}), ('Vanuatu (VU)', {'year': 2020, 'value': 0.389174968317372}), ('Cameroon (CM)', {'year': 2020, 'value': 0.37478265803136}), ('Kenya (KE)', {'year': 2020, 'value': 0.374079219355755}), ('Guinea (GN)', {'year': 2020, 'value': 0.34364615086247}), ('Timor-Leste (TL)', {'year': 2020, 'value': 0.343155165981408}), ('Solomon Islands (SB)', {'year': 2020, 'value': 0.323065549175264}), ('Yemen, Rep. (YE)', {'year': 2020, 'value': 0.308514614308256}), ('Togo (TG)', {'year': 2020, 'value': 0.286061843654428}), ('Haiti (HT)', {'year': 2020, 'value': 0.283815024249564}), ('Burkina Faso (BF)', {'year': 2020, 'value': 0.253533188747507}), ('Gambia, The (GM)', {'year': 2020, 'value': 0.237529598930845}), ('Tanzania (TZ)', {'year': 2020, 'value': 0.233945592120175}), ('Liberia (LR)', {'year': 2020, 'value': 0.231838923937177}), ('Afghanistan (AF)', {'year': 2020, 'value': 0.223478872007068}), ('Mozambique (MZ)', {'year': 2020, 'value': 0.222767552715213}), ('Eritrea (ER)', {'year': 2020, 'value': 0.198657542968412}), ('Mali (ML)', {'year': 2020, 'value': 0.195565971417317}), ('South Sudan (SS)', {'year': 2020, 'value': 0.16430913651009}), ('Guinea-Bissau (GW)', {'year': 2020, 'value': 0.163208368967987}), ('Ethiopia (ET)', {'year': 2020, 'value': 0.154431771590205}), ('Uganda (UG)', {'year': 2020, 'value': 0.127793034826946}), ('Sierra Leone (SL)', {'year': 2020, 'value': 0.127277607278142}), ('Rwanda (RW)', {'year': 2020, 'value': 0.105124140047262}), ('Madagascar (MG)', {'year': 2020, 'value': 0.0972695405949093}), ('Chad (TD)', {'year': 2020, 'value': 0.0942281870969025}), ('Niger (NE)', {'year': 2020, 'value': 0.0903255776910309}), ('Malawi (MW)', {'year': 2020, 'value': 0.0846361581872504}), ('Burundi (BI)', {'year': 2020, 'value': 0.0583840218352736}), ('Central African Republic (CF)', {'year': 2020, 'value': 0.044282072685485}), ('Somalia (SO)', {'year': 2020, 'value': 0.0399346532651356}), ('Congo, Dem. Rep. (CD)', {'year': 2020, 'value': 0.0325847808481787})]\n",
            "30 Countries with the Highest CO2 Emissions Per Capita:\n",
            "Qatar (QA): 31.73 metric tons (Year: 2020)\n",
            "Bahrain (BH): 21.98 metric tons (Year: 2020)\n",
            "Brunei Darussalam (BN): 21.71 metric tons (Year: 2020)\n",
            "Kuwait (KW): 21.17 metric tons (Year: 2020)\n",
            "United Arab Emirates (AE): 20.25 metric tons (Year: 2020)\n",
            "Oman (OM): 15.64 metric tons (Year: 2020)\n",
            "Australia (AU): 14.77 metric tons (Year: 2020)\n",
            "Saudi Arabia (SA): 14.27 metric tons (Year: 2020)\n",
            "Canada (CA): 13.60 metric tons (Year: 2020)\n",
            "United States (US): 13.03 metric tons (Year: 2020)\n",
            "Luxembourg (LU): 12.46 metric tons (Year: 2020)\n",
            "Kazakhstan (KZ): 11.30 metric tons (Year: 2020)\n",
            "Russian Federation (RU): 11.23 metric tons (Year: 2020)\n",
            "Korea, Rep. (KR): 10.99 metric tons (Year: 2020)\n",
            "Turkmenistan (TM): 10.18 metric tons (Year: 2020)\n",
            "Trinidad and Tobago (TT): 10.16 metric tons (Year: 2020)\n",
            "Palau (PW): 8.80 metric tons (Year: 2020)\n",
            "Czechia (CZ): 8.30 metric tons (Year: 2020)\n",
            "Japan (JP): 8.03 metric tons (Year: 2020)\n",
            "China (CN): 7.76 metric tons (Year: 2020)\n",
            "Singapore (SG): 7.69 metric tons (Year: 2020)\n",
            "Netherlands (NL): 7.47 metric tons (Year: 2020)\n",
            "Belgium (BE): 7.40 metric tons (Year: 2020)\n",
            "Malaysia (MY): 7.38 metric tons (Year: 2020)\n",
            "Poland (PL): 7.37 metric tons (Year: 2020)\n",
            "Germany (DE): 7.26 metric tons (Year: 2020)\n",
            "Iran, Islamic Rep. (IR): 7.06 metric tons (Year: 2020)\n",
            "Ireland (IE): 6.77 metric tons (Year: 2020)\n",
            "Norway (NO): 6.73 metric tons (Year: 2020)\n",
            "Serbia (RS): 6.71 metric tons (Year: 2020)\n"
          ]
        }
      ],
      "source": [
        "countries = []\n",
        "print(type(countries))\n",
        "for i in data[1]:\n",
        "    if i[\"country\"][\"value\"] in countries_filtered:\n",
        "        countries.append(i)\n",
        "# Dictionary to store CO2 emissions per capita for each country\n",
        "co2_emissions_data = {}\n",
        "\n",
        "# CO2 emissions data for each country\n",
        "for entry in countries:\n",
        "    country_code = entry['country']['id']\n",
        "    value = entry['value']\n",
        "    year = int(entry['date'])\n",
        "    if value is not None:\n",
        "        co2_emissions_data[entry['country']['value']+\" (\"+country_code+\")\"] = {\n",
        "            'year': year,\n",
        "            'value': float(value)\n",
        "        }\n",
        "\n",
        "# Sort the countries by CO2 emissions per capita in descending order\n",
        "sorted_countries = sorted(co2_emissions_data.items(), key=lambda x: x[1]['value'], reverse=True)\n",
        "print(sorted_countries)\n",
        "\n",
        "print(\"30 Countries with the Highest CO2 Emissions Per Capita:\")\n",
        "for i, (country_code, emissions_info) in enumerate(sorted_countries[:30], start=1):\n",
        "    emissions_value = emissions_info['value']\n",
        "    emissions_year = emissions_info['year']\n",
        "    print(f\"{country_code}: {emissions_value:.2f} metric tons (Year: {emissions_year})\")"
      ]
    }
  ],
  "metadata": {
    "colab": {
      "provenance": []
    },
    "kernelspec": {
      "display_name": "Python 3",
      "language": "python",
      "name": "python3"
    },
    "language_info": {
      "codemirror_mode": {
        "name": "ipython",
        "version": 3
      },
      "file_extension": ".py",
      "mimetype": "text/x-python",
      "name": "python",
      "nbconvert_exporter": "python",
      "pygments_lexer": "ipython3",
      "version": "3.10.4"
    }
  },
  "nbformat": 4,
  "nbformat_minor": 5
}
